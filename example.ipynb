{
  "nbformat": 4,
  "nbformat_minor": 0,
  "metadata": {
    "colab": {
      "name": "example.ipynb",
      "version": "0.3.2",
      "provenance": [],
      "collapsed_sections": []
    },
    "kernelspec": {
      "name": "python3",
      "display_name": "Python 3"
    },
    "accelerator": "GPU"
  },
  "cells": [
    {
      "cell_type": "code",
      "metadata": {
        "id": "xoCOxxyO_wsE",
        "colab_type": "code",
        "colab": {
          "base_uri": "https://localhost:8080/",
          "height": 148
        },
        "outputId": "ed229404-17f8-4eb5-a330-e9453d2dff04"
      },
      "source": [
        "!git clone https://github.com/graykode/seq2seq-dataloader\n",
        "%cd seq2seq-dataloader"
      ],
      "execution_count": 1,
      "outputs": [
        {
          "output_type": "stream",
          "text": [
            "Cloning into 'seq2seq-dataloader'...\n",
            "remote: Enumerating objects: 3, done.\u001b[K\n",
            "remote: Counting objects:  33% (1/3)   \u001b[K\rremote: Counting objects:  66% (2/3)   \u001b[K\rremote: Counting objects: 100% (3/3)   \u001b[K\rremote: Counting objects: 100% (3/3), done.\u001b[K\n",
            "remote: Compressing objects:  33% (1/3)   \u001b[K\rremote: Compressing objects:  66% (2/3)   \u001b[K\rremote: Compressing objects: 100% (3/3)   \u001b[K\rremote: Compressing objects: 100% (3/3), done.\u001b[K\n",
            "Unpacking objects:   3% (1/32)   \rUnpacking objects:   6% (2/32)   \rUnpacking objects:   9% (3/32)   \rUnpacking objects:  12% (4/32)   \rUnpacking objects:  15% (5/32)   \rUnpacking objects:  18% (6/32)   \rUnpacking objects:  21% (7/32)   \rUnpacking objects:  25% (8/32)   \rUnpacking objects:  28% (9/32)   \rUnpacking objects:  31% (10/32)   \rUnpacking objects:  34% (11/32)   \rUnpacking objects:  37% (12/32)   \rUnpacking objects:  40% (13/32)   \rUnpacking objects:  43% (14/32)   \rremote: Total 32 (delta 0), reused 1 (delta 0), pack-reused 29\u001b[K\n",
            "Unpacking objects:  46% (15/32)   \rUnpacking objects:  50% (16/32)   \rUnpacking objects:  53% (17/32)   \rUnpacking objects:  56% (18/32)   \rUnpacking objects:  59% (19/32)   \rUnpacking objects:  62% (20/32)   \rUnpacking objects:  65% (21/32)   \rUnpacking objects:  68% (22/32)   \rUnpacking objects:  71% (23/32)   \rUnpacking objects:  75% (24/32)   \rUnpacking objects:  78% (25/32)   \rUnpacking objects:  81% (26/32)   \rUnpacking objects:  84% (27/32)   \rUnpacking objects:  87% (28/32)   \rUnpacking objects:  90% (29/32)   \rUnpacking objects:  93% (30/32)   \rUnpacking objects:  96% (31/32)   \rUnpacking objects: 100% (32/32)   \rUnpacking objects: 100% (32/32), done.\n",
            "/content/seq2seq-dataloader\n"
          ],
          "name": "stdout"
        }
      ]
    },
    {
      "cell_type": "code",
      "metadata": {
        "id": "rIQY78ez_-0w",
        "colab_type": "code",
        "colab": {
          "base_uri": "https://localhost:8080/",
          "height": 73
        },
        "outputId": "c77e7c5f-b3ec-4387-c3b5-c11996ec4cef"
      },
      "source": [
        "import nltk\n",
        "nltk.download('punkt')"
      ],
      "execution_count": 2,
      "outputs": [
        {
          "output_type": "stream",
          "text": [
            "[nltk_data] Downloading package punkt to /root/nltk_data...\n",
            "[nltk_data]   Unzipping tokenizers/punkt.zip.\n"
          ],
          "name": "stdout"
        },
        {
          "output_type": "execute_result",
          "data": {
            "text/plain": [
              "True"
            ]
          },
          "metadata": {
            "tags": []
          },
          "execution_count": 2
        }
      ]
    },
    {
      "cell_type": "code",
      "metadata": {
        "id": "SdQJPgwGAEKi",
        "colab_type": "code",
        "colab": {}
      },
      "source": [
        "import json\n",
        "from data_loader import get_loader"
      ],
      "execution_count": 0,
      "outputs": []
    },
    {
      "cell_type": "code",
      "metadata": {
        "id": "VDfrgIQEARjf",
        "colab_type": "code",
        "colab": {}
      },
      "source": [
        "# load word2id dictionaries\n",
        "with open('./data/src_word2id.json', 'r') as f:\n",
        "    src_word2id = json.load(f)\n",
        "with open('./data/trg_word2id.json', 'r') as f:\n",
        "    trg_word2id = json.load(f)"
      ],
      "execution_count": 0,
      "outputs": []
    },
    {
      "cell_type": "code",
      "metadata": {
        "id": "t5L7IUSNAUAH",
        "colab_type": "code",
        "colab": {}
      },
      "source": [
        "data_loader = get_loader(src_path='./data/src_train.txt',\n",
        "                         trg_path='./data/trg_train.txt',\n",
        "                         src_word2id=src_word2id,\n",
        "                         trg_word2id=trg_word2id)\n",
        "\n",
        "data_iter = iter(data_loader)\n",
        "src_seqs, src_lengths, trg_seqs, trg_lengths, target, target_lengths = next(data_iter)"
      ],
      "execution_count": 0,
      "outputs": []
    },
    {
      "cell_type": "code",
      "metadata": {
        "id": "e7ZIrha0FqZP",
        "colab_type": "code",
        "colab": {
          "base_uri": "https://localhost:8080/",
          "height": 167
        },
        "outputId": "18721667-46e1-4158-c786-ea527756df70"
      },
      "source": [
        "# src_seqs is a tensor of shape (batch_size, seq_length)\n",
        "# seq_length is the maximum length of sequences in mini-batch data\n",
        "print(src_seqs)\n",
        "print(src_seqs.shape)"
      ],
      "execution_count": 9,
      "outputs": [
        {
          "output_type": "stream",
          "text": [
            "tensor([[ 994,   11, 1340,  ...,   24,  465,   38],\n",
            "        [  63,  476,  544,  ...,  243,   38,    0],\n",
            "        [ 188,    5,  237,  ..., 1193,   38,    0],\n",
            "        ...,\n",
            "        [ 747,    3,   13,  ...,    0,    0,    0],\n",
            "        [ 299,    5,  143,  ...,    0,    0,    0],\n",
            "        [ 491,  963,    4,  ...,    0,    0,    0]])\n",
            "torch.Size([100, 49])\n"
          ],
          "name": "stdout"
        }
      ]
    },
    {
      "cell_type": "code",
      "metadata": {
        "id": "cH27oqFKAbfE",
        "colab_type": "code",
        "colab": {
          "base_uri": "https://localhost:8080/",
          "height": 129
        },
        "outputId": "cc947d0f-1562-4a0e-a03b-7f826140b17e"
      },
      "source": [
        "# '3' is UNK Token.\n",
        "print(src_seqs[0])\n",
        "print(src_lengths[0])"
      ],
      "execution_count": 7,
      "outputs": [
        {
          "output_type": "stream",
          "text": [
            "tensor([ 994,   11, 1340,   16,   17,   18,   19, 2242,   55, 4950, 4580, 1315,\n",
            "           9,    4, 2625,   59,  855, 1700,    9, 4774,   24,    3, 2057,   59,\n",
            "         614, 1093, 2852, 2846, 2681,    9, 1407,  614,    3,  833,   24,  391,\n",
            "        2655,    9,   24,   11, 4392,   24, 3724,   13,  614, 1910,   24,  465,\n",
            "          38])\n",
            "49\n"
          ],
          "name": "stdout"
        }
      ]
    },
    {
      "cell_type": "code",
      "metadata": {
        "id": "J1I1AsbKFyTs",
        "colab_type": "code",
        "colab": {
          "base_uri": "https://localhost:8080/",
          "height": 167
        },
        "outputId": "4f951250-4ee1-473e-a7c1-87a1f0f40fb8"
      },
      "source": [
        "print(trg_seqs)\n",
        "print(trg_seqs.shape)"
      ],
      "execution_count": 10,
      "outputs": [
        {
          "output_type": "stream",
          "text": [
            "tensor([[   1,   49, 2267,  ...,    0,    0,    0],\n",
            "        [   1,   41,  440,  ...,    0,    0,    0],\n",
            "        [   1, 3700, 4919,  ...,    0,    0,    0],\n",
            "        ...,\n",
            "        [   1,   50, 1218,  ...,    0,    0,    0],\n",
            "        [   1,  334,   18,  ...,    0,    0,    0],\n",
            "        [   1,  385,  566,  ...,    0,    0,    0]])\n",
            "torch.Size([100, 49])\n"
          ],
          "name": "stdout"
        }
      ]
    },
    {
      "cell_type": "code",
      "metadata": {
        "id": "P8WDvX_NF8Ox",
        "colab_type": "code",
        "colab": {
          "base_uri": "https://localhost:8080/",
          "height": 204
        },
        "outputId": "331ce4d8-2a1d-437c-bdae-e1635555e7a2"
      },
      "source": [
        "# This is important!.\n",
        "print(trg_seqs[0])\n",
        "print(target[0])"
      ],
      "execution_count": 12,
      "outputs": [
        {
          "output_type": "stream",
          "text": [
            "tensor([   1,   49, 2267,    3, 4091,   68,    3, 2651,  152,  419,    8,  331,\n",
            "         229,  524, 1680,  212,   49,  299, 1235,  156,  944, 3192,   14,  357,\n",
            "        2454,  117,   23, 4624,   14,   50, 3648, 1819,    3,   14,  317,  171,\n",
            "           3,    8,    3,   14,    3, 2676,  127, 1207,   28,    0,    0,    0,\n",
            "           0])\n",
            "tensor([  49, 2267,    3, 4091,   68,    3, 2651,  152,  419,    8,  331,  229,\n",
            "         524, 1680,  212,   49,  299, 1235,  156,  944, 3192,   14,  357, 2454,\n",
            "         117,   23, 4624,   14,   50, 3648, 1819,    3,   14,  317,  171,    3,\n",
            "           8,    3,   14,    3, 2676,  127, 1207,   28,    2,    0,    0,    0,\n",
            "           0])\n"
          ],
          "name": "stdout"
        }
      ]
    }
  ]
}